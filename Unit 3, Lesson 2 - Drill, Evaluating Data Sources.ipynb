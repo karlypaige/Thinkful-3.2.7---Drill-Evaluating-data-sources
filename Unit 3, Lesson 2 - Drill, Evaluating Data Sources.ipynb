{
 "cells": [
  {
   "cell_type": "markdown",
   "metadata": {},
   "source": [
    "In each of the scenarios, find possible shortcomings of the theoretical or actual data sources to answer the given question. What could be done to either adjust the analysis or reframe the question so that you can answer it accurately?\n",
    "\n",
    "    Data Source: Amsterdam availability data scraped from AirBnB on December 24th. \n",
    "    Question: What are the popular neighborhoods in Amsterdam?\n",
    "\n",
    "shortcomings: only collected info from AirBnB which are small, independent rentals.  The time of year is the day before Christmas which is exceptionally busy for travel given its a long holiday.\n",
    "\n",
    "Adjustments or reframes: Additional information from hotels and hostels would provide a more unbiased sample and reframing the question to limit its scope to winter holiday travel or, even narrower, to specifically incorporate Christmas and New Year's as potential influences or exceptional circumstances.\n",
    "\n",
    "    Data Source: Mental health services use on September 12, 2001 in San Francisco, CA and New York City, NY. \n",
    "    Question:  How do patterns of mental health service use vary between cities?\n",
    "    \n",
    "shortcomings: exceptional circumstances will skew the data for both cities, but in particular for NY City at this time.\n",
    "\n",
    "Adjustments of reframes: Could add the caveat of post-traumatic efforts to the question to limit the scope of the enquiry to the specific event.  Additional layers of information could potentially be gathered if enough data is available such as mental health services before vs after the event, or by including additional cities proximity might factor in as a potential variable to consider.\n",
    "\n",
    "    Data Source: Armenian Pub Survey. \n",
    "    Question: What are the most common reasons Armenians visit local pubs?\n",
    "    \n",
    "Shortcomings: The scope of this survey is limited to the student population at a particular university.\n",
    "The dataset has only 2 questions regarding importance of particular features framed as primary importance and secondary importance.  It appears that only a handful of options were given for primary importance reported as: Environment, Music, and Other.  While Secondary Importance is reported as: Music, Menu, and other.  Plus a third category, \"occasions\", that could also address \"common reasons Armenians visit local pubs\" but might also be limited to a handful of choices. If selections are limited to only a handful of choices its possible that the survey is limited and leading and not a true reflection of real responses. \n",
    "\n",
    "Adjustments or reframes: The survey results should be limited to student populations and perhaps even more specifically to the population of students at that particular university.  The author could address the issue of limited choices for the question asked and either justify how the choices are a true reflection of real motivations (perhaps they ran a small pilot study where they asked open-ended questions to come up with their list of choices), or specify the limitations of the choices."
   ]
  },
  {
   "cell_type": "code",
   "execution_count": null,
   "metadata": {},
   "outputs": [],
   "source": []
  }
 ],
 "metadata": {
  "kernelspec": {
   "display_name": "Python 3",
   "language": "python",
   "name": "python3"
  },
  "language_info": {
   "codemirror_mode": {
    "name": "ipython",
    "version": 3
   },
   "file_extension": ".py",
   "mimetype": "text/x-python",
   "name": "python",
   "nbconvert_exporter": "python",
   "pygments_lexer": "ipython3",
   "version": "3.6.5"
  }
 },
 "nbformat": 4,
 "nbformat_minor": 2
}
